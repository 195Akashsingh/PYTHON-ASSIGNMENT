{
  "nbformat": 4,
  "nbformat_minor": 0,
  "metadata": {
    "colab": {
      "provenance": []
    },
    "kernelspec": {
      "name": "python3",
      "display_name": "Python 3"
    },
    "language_info": {
      "name": "python"
    }
  },
  "cells": [
    {
      "cell_type": "markdown",
      "source": [
        "Q1-What is Python,why it is popular?\n",
        "\n",
        "\n",
        "Ans- Python is a programming language known for its simplicity, readability, and ease of use, making it ideal for both beginners and experienced developers."
      ],
      "metadata": {
        "id": "EwPgHuNcGwwj"
      }
    },
    {
      "cell_type": "markdown",
      "source": [
        "Q2-What is interpreter in Python?\n",
        "\n",
        "Ans-In python,an interpreter is a program that reads and executes Python code line by line."
      ],
      "metadata": {
        "id": "I87xCOLfJYFO"
      }
    },
    {
      "cell_type": "markdown",
      "source": [
        "Q3-What are pre-defined keywords in Python?\n",
        "\n",
        "Ans- Pre-defined keywords in Python are those words that have special meaning to the Python interpreter.\n",
        "example-False,True,and,else,etc."
      ],
      "metadata": {
        "id": "u_9wBZaRKJBL"
      }
    },
    {
      "cell_type": "markdown",
      "source": [
        "Q4-Can keywords bs used as variable name?\n",
        "\n",
        "Ans- No, keywords cannot bs used as variable name in Python."
      ],
      "metadata": {
        "id": "Ys0CZ4slLsam"
      }
    },
    {
      "cell_type": "markdown",
      "source": [
        "Q5-What is mutability in Python?\n",
        "\n",
        "Ans-Mutability in Python refers to an obeject's ability to change its state or contents after it has been created.\n",
        "Example- list,dict,set,etc."
      ],
      "metadata": {
        "id": "8zUlNcVXMt5N"
      }
    },
    {
      "cell_type": "markdown",
      "source": [
        "Q6-Why are list mutable,but tuple are immutable?\n",
        "\n",
        "\n",
        "Ans-List are mutable because its content can be changed after it was created .\n",
        "\n",
        "Tuple are immutable because its content can not be changed after it was created."
      ],
      "metadata": {
        "id": "zXXS13coOA7F"
      }
    },
    {
      "cell_type": "markdown",
      "source": [
        "Q7-What are the difference between \"==\" and \"is\"operators in Python?\n",
        "\n",
        "\n",
        "Ans-They might look similar,==and is are very different in Python.\n",
        "==(Equality Operator)\n",
        "a=[1,2,3]\n",
        "b=[1,2,3]\n",
        "print(a == b) the values are the same.\n",
        "is(identity Operator)\n",
        "a = [1,2,3]\n",
        "b = [1,2,3]\n",
        "print(a is b) different objects in memory.\n",
        "\n"
      ],
      "metadata": {
        "id": "jinIUOe4OeSV"
      }
    },
    {
      "cell_type": "markdown",
      "source": [
        "Q8-What are logical operators in Python?\n",
        "\n",
        "Ans-Logical operators in Python are used to combine multiple conditions (Boolean expressions) and return a Boolean result (True or False)."
      ],
      "metadata": {
        "id": "zrRNF0hHUVWf"
      }
    },
    {
      "cell_type": "markdown",
      "source": [
        "Q9-What is type casting in Python?\n",
        "\n",
        "Ans-Type casting in Python means converting one data type into another.This is useful when you want to perform operations that require matching data types."
      ],
      "metadata": {
        "id": "V4MPQyzwU1av"
      }
    },
    {
      "cell_type": "markdown",
      "source": [
        "Q10-What is difference between implicit ans explicit type casting?\n",
        "\n",
        "Ans-Implicit and explicit type casting are methods used in programming to convert data from one type to another. Implicit type casting occurs automatically when the compiler converts data types without any manual intervention."
      ],
      "metadata": {
        "id": "hCXf612tVI2l"
      }
    },
    {
      "cell_type": "markdown",
      "source": [
        "Q11-What is the purpose of conditional statements in Python?\n",
        "\n",
        "Ans-Conditional statements in Python are used to make decisions in a program based on whether a condition is True or False. it is used to control the flow of the program by executing certain blocks of code only when specific conditions are met."
      ],
      "metadata": {
        "id": "NUaaHcY9WKaw"
      }
    },
    {
      "cell_type": "markdown",
      "source": [
        "Q12-How does the the elif statement work?\n",
        "\n",
        "Ans-The elif  statement is used when you want to check multiple conditions, one after another.\n",
        "\n"
      ],
      "metadata": {
        "id": "weQAOWKwWyAE"
      }
    },
    {
      "cell_type": "markdown",
      "source": [
        "Q13-What is difference between for and while loop?\n",
        "\n",
        "Ans-Both for and while loops are used to repeat a block of code, but they are used in different condition.\n",
        "example-\n",
        "for loop\n",
        "for i in range(5):\n",
        "    print(i)\n",
        "while loop\n",
        "i = 0\n",
        "while i < 5:\n",
        "    print(i)\n",
        "    i += 1\n"
      ],
      "metadata": {
        "id": "RWavbnQRXDee"
      }
    },
    {
      "cell_type": "markdown",
      "source": [
        "Q14-Describe a scenario where a while loop is more suitable than a for loop?\n",
        "\n",
        "Ans-A while loop is more suitable when you don’t know in advance how many times the loop needs to run. Instead, the loop continues as long as a condition remains true.\n",
        "Example-\n",
        "correct_password = \"python123\"\n",
        "user_input = \"\"\n",
        "\n",
        "while user_input != correct_password:\n",
        "    user_input = input(\"Enter your password: \")\n",
        "\n",
        "print(\"Access granted!\")\n"
      ],
      "metadata": {
        "id": "8rJ9nJEZYBZA"
      }
    },
    {
      "cell_type": "markdown",
      "source": [
        "** Practical Question**"
      ],
      "metadata": {
        "id": "72yJnss0gU98"
      }
    },
    {
      "cell_type": "code",
      "source": [
        "#Q1-Write a Python program to print\"Hello,World!\"\n",
        "a= \"Hello,world\"\n",
        "print (a)\n"
      ],
      "metadata": {
        "colab": {
          "base_uri": "https://localhost:8080/"
        },
        "id": "9JawkrH8gv1y",
        "outputId": "62c9f29a-4aec-463d-df1a-203562aa21a0"
      },
      "execution_count": null,
      "outputs": [
        {
          "output_type": "stream",
          "name": "stdout",
          "text": [
            "Hello,world\n"
          ]
        }
      ]
    },
    {
      "cell_type": "code",
      "source": [
        "#Q2-Write a python program that display your name and age.\n",
        "a=\"Name=Akash singh\"\n",
        "b= \"Age=24\"\n",
        "print(a),(b)"
      ],
      "metadata": {
        "colab": {
          "base_uri": "https://localhost:8080/"
        },
        "id": "HOZSe3ojljiq",
        "outputId": "2278a963-f6a2-4df1-8a59-3f4ca65e1059"
      },
      "execution_count": null,
      "outputs": [
        {
          "output_type": "stream",
          "name": "stdout",
          "text": [
            "Name=Akash singh\n"
          ]
        },
        {
          "output_type": "execute_result",
          "data": {
            "text/plain": [
              "(None, 'Age=24')"
            ]
          },
          "metadata": {},
          "execution_count": 27
        }
      ]
    },
    {
      "cell_type": "code",
      "source": [
        "#Q3-Write code to print all the pre-defined keywords in pyhton using the keyword library.\n",
        "import keyword\n",
        "all_keywords = keyword.kwlist\n",
        "print(\"List of all pre-defined keywords in Python:\\n\")\n",
        "for kw in all_keywords:\n",
        "    print(kw)"
      ],
      "metadata": {
        "id": "zdKDIY4hmYEd",
        "colab": {
          "base_uri": "https://localhost:8080/"
        },
        "outputId": "661e2d37-fe59-4ebf-ceea-7629cbd90192"
      },
      "execution_count": null,
      "outputs": [
        {
          "output_type": "stream",
          "name": "stdout",
          "text": [
            "List of all pre-defined keywords in Python:\n",
            "\n",
            "False\n",
            "None\n",
            "True\n",
            "and\n",
            "as\n",
            "assert\n",
            "async\n",
            "await\n",
            "break\n",
            "class\n",
            "continue\n",
            "def\n",
            "del\n",
            "elif\n",
            "else\n",
            "except\n",
            "finally\n",
            "for\n",
            "from\n",
            "global\n",
            "if\n",
            "import\n",
            "in\n",
            "is\n",
            "lambda\n",
            "nonlocal\n",
            "not\n",
            "or\n",
            "pass\n",
            "raise\n",
            "return\n",
            "try\n",
            "while\n",
            "with\n",
            "yield\n"
          ]
        }
      ]
    },
    {
      "cell_type": "code",
      "source": [
        "#Q4-Write a program that checks if a given word is python keyword\n",
        "word = input(\"Enter a word: \")\n",
        "if keyword.iskeyword(word):\n",
        "    print(f\"✅ '{word}' is a Python keyword.\")\n",
        "else:\n",
        "    print(f\"❌ '{word}' is NOT a Python keyword.\")"
      ],
      "metadata": {
        "colab": {
          "base_uri": "https://localhost:8080/"
        },
        "id": "x2ue0H3Up-yT",
        "outputId": "2be4844d-8fb2-42c5-9564-576dd67b8a66"
      },
      "execution_count": null,
      "outputs": [
        {
          "output_type": "stream",
          "name": "stdout",
          "text": [
            "Enter a word: hh\n",
            "❌ 'hh' is NOT a Python keyword.\n"
          ]
        }
      ]
    },
    {
      "cell_type": "code",
      "source": [
        "#Q5-Creat a list and tuple in python,and demonstrate how attempting to change an element works differently for each\n",
        "# Creating a list\n",
        "my_list = [10, 20, 30]\n",
        "print(\"Original List:\", my_list)\n",
        "my_list[1] = 99\n",
        "print(\"Modified List:\", my_list)\n",
        "\n",
        "# Creating a tuple\n",
        "my_tuple = (10, 20, 30)\n",
        "print(\"\\nOriginal Tuple:\", my_tuple)\n",
        "\n",
        "try:\n",
        "    my_tuple[1] = 99\n",
        "except TypeError as e:\n",
        "    print(\"Error while modifying tuple:\", e)\n"
      ],
      "metadata": {
        "colab": {
          "base_uri": "https://localhost:8080/"
        },
        "id": "cN6nVuY7qpIJ",
        "outputId": "36398697-b402-4c85-932c-da41903383d2"
      },
      "execution_count": null,
      "outputs": [
        {
          "output_type": "stream",
          "name": "stdout",
          "text": [
            "Original List: [10, 20, 30]\n",
            "Modified List: [10, 99, 30]\n",
            "\n",
            "Original Tuple: (10, 20, 30)\n",
            "Error while modifying tuple: 'tuple' object does not support item assignment\n"
          ]
        }
      ]
    },
    {
      "cell_type": "code",
      "source": [
        "#Q6-Write a function to demonstrate the behavior of mutable and immutable arguments\n",
        "def modify_values(a_number, a_list):\n",
        "    print(\"\\nInside function:\")\n",
        "    a_number += 10\n",
        "    a_list.append(100)\n",
        "    print(\"Number inside function:\", a_number)\n",
        "    print(\"List inside function:\", a_list)\n",
        "\n",
        "num = 5\n",
        "my_list = [1, 2, 3]\n",
        "modify_values(num, my_list)\n",
        "print(\"\\nOutside function:\")\n",
        "print(\"Number outside function:\", num)\n",
        "print(\"List outside function:\", my_list)\n"
      ],
      "metadata": {
        "colab": {
          "base_uri": "https://localhost:8080/"
        },
        "id": "Tvg5rfbmr9bS",
        "outputId": "c22d94c2-ca4a-48f6-9ddc-92d3c57c4a4c"
      },
      "execution_count": null,
      "outputs": [
        {
          "output_type": "stream",
          "name": "stdout",
          "text": [
            "\n",
            "Inside function:\n",
            "Number inside function: 15\n",
            "List inside function: [1, 2, 3, 100]\n",
            "\n",
            "Outside function:\n",
            "Number outside function: 5\n",
            "List outside function: [1, 2, 3, 100]\n"
          ]
        }
      ]
    },
    {
      "cell_type": "code",
      "source": [
        "#Q7-Write a program that performs basic arithmetic operation on two user-input number\n",
        "# Get user input\n",
        "num1 = float(input(\"Enter first number: \"))\n",
        "num2 = float(input(\"Enter second number: \"))\n",
        "addition = num1 + num2\n",
        "subtraction = num1 - num2\n",
        "multiplication = num1 * num2\n",
        "if num2 != 0:\n",
        "    division = num1 / num2\n",
        "else:\n",
        "    division = \"undefined (cannot divide by zero)\"\n",
        "\n",
        "# Display results\n",
        "print(\"\\nResults:\")\n",
        "print(\"Addition:       \", addition)\n",
        "print(\"Subtraction:    \", subtraction)\n",
        "print(\"Multiplication: \", multiplication)\n",
        "print(\"Division:       \", division)\n",
        "2"
      ],
      "metadata": {
        "colab": {
          "base_uri": "https://localhost:8080/"
        },
        "id": "hgDCOUcWsuVy",
        "outputId": "86fac173-8468-4ea6-d4b1-800ba0fc0293"
      },
      "execution_count": null,
      "outputs": [
        {
          "output_type": "stream",
          "name": "stdout",
          "text": [
            "Enter first number: 44\n",
            "Enter second number: 88\n",
            "\n",
            "Results:\n",
            "Addition:        132.0\n",
            "Subtraction:     -44.0\n",
            "Multiplication:  3872.0\n",
            "Division:        0.5\n"
          ]
        },
        {
          "output_type": "execute_result",
          "data": {
            "text/plain": [
              "2"
            ]
          },
          "metadata": {},
          "execution_count": 39
        }
      ]
    },
    {
      "cell_type": "code",
      "source": [
        "#Q8-Write a program to demonstrate the use of logical operator\n",
        "\n",
        "age = int(input(\"Enter your age: \"))\n",
        "has_id = input(\"Do you have a valid ID? (yes/no): \").lower()\n",
        "\n",
        "has_valid_id = has_id == \"yes\"\n",
        "\n",
        "print(\"\\nLogical Operator Results:\")\n",
        "\n",
        "if age >= 18 and has_valid_id:\n",
        "    print(\"✅ You are allowed to enter.\")\n",
        "else:\n",
        "    print(\"❌ Entry not allowed.\")\n",
        "if age >= 18 or has_valid_id:\n",
        "    print(\"⚠️ You might be allowed with special approval.\")\n",
        "if not has_valid_id:\n",
        "    print(\"🚫 You must carry a valid ID.\")\n"
      ],
      "metadata": {
        "colab": {
          "base_uri": "https://localhost:8080/"
        },
        "id": "RwkxHPlotj5i",
        "outputId": "b7f78f42-f1db-40fa-cc94-d1bc01c71d81"
      },
      "execution_count": null,
      "outputs": [
        {
          "output_type": "stream",
          "name": "stdout",
          "text": [
            "Enter your age: 525\n",
            "Do you have a valid ID? (yes/no): 55\n",
            "\n",
            "Logical Operator Results:\n",
            "❌ Entry not allowed.\n",
            "⚠️ You might be allowed with special approval.\n",
            "🚫 You must carry a valid ID.\n"
          ]
        }
      ]
    },
    {
      "cell_type": "code",
      "source": [
        "#Q9-write a python program to convert user input from string to intrger,float,and boolean types\n",
        "user_input = input(\"Enter a value: \")\n",
        "try:\n",
        "    int_value = int(user_input)\n",
        "    print(\"Integer value:\", int_value)\n",
        "except ValueError:\n",
        "    print(\"❌ Cannot convert to integer\")\n",
        "\n",
        "try:\n",
        "    float_value = float(user_input)\n",
        "    print(\"Float value:\", float_value)\n",
        "except ValueError:\n",
        "    print(\"❌ Cannot convert to float\")\n",
        "\n",
        "bool_value = bool(user_input)\n",
        "print(\"Boolean value:\", bool_value)\n"
      ],
      "metadata": {
        "colab": {
          "base_uri": "https://localhost:8080/"
        },
        "id": "3WNqBREDu5WL",
        "outputId": "3a4de74f-7b5c-4538-9ac2-bd96cb95b254"
      },
      "execution_count": null,
      "outputs": [
        {
          "output_type": "stream",
          "name": "stdout",
          "text": [
            "Enter a value: 55\n",
            "Integer value: 55\n",
            "Float value: 55.0\n",
            "Boolean value: True\n"
          ]
        }
      ]
    },
    {
      "cell_type": "code",
      "source": [
        "#Q10-Writecode to demonstrate type casting with list elements\n",
        "\n",
        "str_list = ['10', '20', '30', '40.5']\n",
        "\n",
        "print(\"Original list (strings):\", str_list)\n",
        "\n",
        "int_list = [int(x) for x in str_list if x.isdigit()]\n",
        "print(\"Converted to integers:\", int_list)\n",
        "float_list = [float(x) for x in str_list]\n",
        "print(\"Converted to floats:\", float_list)\n"
      ],
      "metadata": {
        "colab": {
          "base_uri": "https://localhost:8080/"
        },
        "id": "KgnV1VkWv1gh",
        "outputId": "429caa3c-8190-459b-9b1a-f22a88fa1c54"
      },
      "execution_count": null,
      "outputs": [
        {
          "output_type": "stream",
          "name": "stdout",
          "text": [
            "Original list (strings): ['10', '20', '30', '40.5']\n",
            "Converted to integers: [10, 20, 30]\n",
            "Converted to floats: [10.0, 20.0, 30.0, 40.5]\n"
          ]
        }
      ]
    },
    {
      "cell_type": "code",
      "source": [
        "#Q11-Write a program that checks if a number is positive,negative,or zero.\n",
        "\n",
        "num = float(input(\"Enter a number: \"))\n",
        "\n",
        "if num > 0:\n",
        "    print(\"The number is positive.\")\n",
        "elif num < 0:\n",
        "    print(\"The number is negative.\")\n",
        "else:\n",
        "    print(\"The number is zero.\")\n"
      ],
      "metadata": {
        "colab": {
          "base_uri": "https://localhost:8080/"
        },
        "id": "ntkngEyGwZH5",
        "outputId": "f17f167d-066a-4f64-9083-6fdb297a5a17"
      },
      "execution_count": null,
      "outputs": [
        {
          "output_type": "stream",
          "name": "stdout",
          "text": [
            "Enter a number: 55\n",
            "The number is positive.\n"
          ]
        }
      ]
    },
    {
      "cell_type": "code",
      "source": [
        "#Q12-Write a for loop to print numbers fromm 1 to 10\n",
        "for i in range(1, 11):\n",
        "    print(i)\n"
      ],
      "metadata": {
        "colab": {
          "base_uri": "https://localhost:8080/"
        },
        "id": "4cGT6T63xBDC",
        "outputId": "78083f56-81b9-43be-ecdb-507f983880cf"
      },
      "execution_count": null,
      "outputs": [
        {
          "output_type": "stream",
          "name": "stdout",
          "text": [
            "1\n",
            "2\n",
            "3\n",
            "4\n",
            "5\n",
            "6\n",
            "7\n",
            "8\n",
            "9\n",
            "10\n"
          ]
        }
      ]
    },
    {
      "cell_type": "code",
      "source": [
        "#Q13-Write a python program to find the sum of all even numbers between 1 and 50\n",
        "\n",
        "even_sum = 0\n",
        "for i in range(1, 51):\n",
        "    if i % 2 == 0:\n",
        "        even_sum += i\n",
        "print(\"Sum of even numbers between 1 and 50 is:\", even_sum)\n"
      ],
      "metadata": {
        "colab": {
          "base_uri": "https://localhost:8080/"
        },
        "id": "G6QehG_UxUkY",
        "outputId": "66cfca84-b02c-4632-a1ab-b2ed3cf19779"
      },
      "execution_count": null,
      "outputs": [
        {
          "output_type": "stream",
          "name": "stdout",
          "text": [
            "Sum of even numbers between 1 and 50 is: 650\n"
          ]
        }
      ]
    },
    {
      "cell_type": "code",
      "source": [
        "#Q14-Write a program to reverse a string into while loop\n",
        "text = input(\"Enter a string: \")\n",
        "\n",
        "reversed_text = \"\"\n",
        "index = len(text) - 1\n",
        "while index >= 0:\n",
        "    reversed_text += text[index]\n",
        "    index -= 1\n",
        "\n",
        "print(\"Reversed string:\", reversed_text)\n",
        "\n"
      ],
      "metadata": {
        "colab": {
          "base_uri": "https://localhost:8080/"
        },
        "id": "PrZSVcJix0gR",
        "outputId": "3f74c62e-50d9-48d8-e4a2-f60fe7662b46"
      },
      "execution_count": null,
      "outputs": [
        {
          "output_type": "stream",
          "name": "stdout",
          "text": [
            "Enter a string: af\n",
            "Reversed string: fa\n"
          ]
        }
      ]
    },
    {
      "cell_type": "code",
      "source": [
        "#Q15-Write a python program to calculate the factorial of a number provided  by the user using a while loop\n",
        "num = int(input(\"Enter a number to find its factorial: \"))\n",
        "\n",
        "factorial = 1\n",
        "i = 1\n",
        "\n",
        "if num < 0:\n",
        "    print(\"❌ Factorial does not exist for negative numbers.\")\n",
        "elif num == 0:\n",
        "    print(\"✅ The factorial of 0 is 1.\")\n",
        "else:\n",
        "    while i <= num:\n",
        "        factorial *= i\n",
        "        i += 1\n",
        "    print(f\"✅ The factorial of {num} is {factorial}.\")\n"
      ],
      "metadata": {
        "colab": {
          "base_uri": "https://localhost:8080/"
        },
        "id": "EP8_sZoXx0hQ",
        "outputId": "bc41fae2-4ab3-4e8a-e35e-69cfe4f06378"
      },
      "execution_count": null,
      "outputs": [
        {
          "output_type": "stream",
          "name": "stdout",
          "text": [
            "Enter a number to find its factorial: 564\n",
            "✅ The factorial of 564 is 3581958155787065837693052289583455947060158752161308379042621141404893258906077105944578451056981452193893368284716772608704582166768416139773607846415801157840818675382224834585800536210976681840284614511691125124605613279609552131143714101269621787327366455715041459002951331271510727910332677075971869531894654864080058808648161870711568257203130758826807484450842613577271966498584471373280217240010799429903593673744937630974011448401763320761469532404357834592039448880040126570797511826752841563211081697800373897820981819209434470976775308514655971713902227408094259416993530110299992767098196648076504904363722704906384732704873279825907438470127916307206167430868029886189758854278706527650990752729236995771247381981932619771656982419569201925943738266922157556493199051054914491827947411925584051626818085445703926618501870411324321834790242796249926768005316304410770236252298798544331862103125410471680905314782277254332304696399902450112511532796241548579457361864409942262880790699170790962499844174455226795116906663177831614539175362617283010246523431784917484635687670347133372387714307697704229297662101866892596560535360636169236243808581466179239936000000000000000000000000000000000000000000000000000000000000000000000000000000000000000000000000000000000000000000000000000000000000000000.\n"
          ]
        }
      ]
    }
  ]
}